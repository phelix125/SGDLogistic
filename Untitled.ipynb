{
 "cells": [
  {
   "cell_type": "code",
   "execution_count": 9,
   "id": "35bee4e4",
   "metadata": {},
   "outputs": [
    {
     "data": {
      "text/plain": [
       "<ufunc 'logical_or'>"
      ]
     },
     "execution_count": 9,
     "metadata": {},
     "output_type": "execute_result"
    }
   ],
   "source": [
    "from mnist import MNIST\n",
    "import numpy as np\n",
    "import pandas as pd\n",
    "import matplotlib.pyplot as plt\n",
    "from sklearn.datasets import load_iris\n",
    "from sklearn.linear_model import LogisticRegression\n",
    "# load dataset\n",
    "# download files from http://yann.lecun.com/exdb/mnist/\n",
    "mndata = MNIST('./')\n",
    "X_train, labels_train = map(np.array, mndata.load_training())\n",
    "X_test, labels_test = map(np.array, mndata.load_testing())\n",
    "X_train = X_train/255.0\n",
    "X_test = X_test/255.0\n",
    "labels_train = labels_train.astype(float)\n",
    "labels_test = labels_test.astype(float)\n",
    "# for breaking apart the data, see the following\n",
    "# boolean indexing:\n",
    "labels_train == 7\n",
    "# logical operations on arrays\n",
    "np.logical_or"
   ]
  },
  {
   "cell_type": "code",
   "execution_count": 10,
   "id": "9438d493",
   "metadata": {},
   "outputs": [
    {
     "data": {
      "text/plain": [
       "(60000, 784)"
      ]
     },
     "execution_count": 10,
     "metadata": {},
     "output_type": "execute_result"
    }
   ],
   "source": [
    "X_train.shape"
   ]
  },
  {
   "cell_type": "code",
   "execution_count": 11,
   "id": "cb6ef288",
   "metadata": {},
   "outputs": [],
   "source": [
    "df = pd.DataFrame(X_train,labels_train)\n",
    "df_test = pd.DataFrame(X_test,labels_test)"
   ]
  },
  {
   "cell_type": "code",
   "execution_count": 12,
   "id": "b4280dc8",
   "metadata": {},
   "outputs": [],
   "source": [
    "mask = df.index == 2.0\n",
    "df2 = df[mask]\n",
    "mask = df.index == 7.0\n",
    "df7 = df[mask]\n",
    "mask = df_test.index == 2.0\n",
    "df22 = df_test[mask]\n",
    "mask = df_test.index == 7.0\n",
    "df72 = df_test[mask]\n",
    "\n",
    "frames = [df2, df7]\n",
    "frames2 = [df22,df72]\n",
    "\n",
    "result2 = pd.concat(frames2)\n",
    "result = pd.concat(frames)\n",
    "\n",
    "result = result.sample(frac=1)\n",
    "result2 = result2.sample(frac=1)\n",
    "df_x = result.reset_index(drop = True)\n",
    "df_y = result.index.to_series()\n",
    "\n",
    "df_x2 = result2.reset_index(drop = True)\n",
    "df_y2 = result2.index.to_series()\n",
    "\n",
    "df_y2 = df_y2.replace(2.0,-1)\n",
    "df_y2 = df_y2.replace(7.0,1)\n",
    "df_y2 = df_y2.reset_index(drop=True)\n",
    "df_y2 = df_y2\n",
    "df_x2 = df_x2.to_numpy()\n",
    "df_y2 = df_y2.to_numpy()\n",
    "df_y2 = df_y2.reshape(len(df_y2),1)\n",
    "df_y = df_y.replace(2.0,-1)\n",
    "df_y = df_y.replace(7.0,1)\n",
    "df_y = df_y.reset_index(drop=True)\n",
    "df_x = df_x.to_numpy()\n",
    "df_y = df_y.to_numpy()\n",
    "df_y = df_y.reshape(len(df_y),1)\n"
   ]
  },
  {
   "cell_type": "code",
   "execution_count": 13,
   "id": "704816b7",
   "metadata": {},
   "outputs": [],
   "source": [
    "\n",
    "def predict2(X,w):\n",
    "    X = X@w\n",
    "    return X\n",
    "\n",
    "def predict(X,w,df_y):\n",
    "    predictions = predict2(X,w)\n",
    "    accuracy = []\n",
    "    for i in range(len(predictions)):\n",
    "        if(sigmoid_function(predictions[i]) >= .5):\n",
    "            predictions[i] = 1.0\n",
    "        else:\n",
    "            predictions[i] = -1.0\n",
    "    falsecount = 0\n",
    "    for i in range(len(predictions)):\n",
    "        if(df_y[i] != predictions[i]):\n",
    "            accuracy.append(False)\n",
    "            falsecount = falsecount + 1\n",
    "        else:\n",
    "            accuracy.append(True)\n",
    "    return falsecount/len(X)\n",
    "\n"
   ]
  },
  {
   "cell_type": "code",
   "execution_count": null,
   "id": "f6b0f32c",
   "metadata": {},
   "outputs": [],
   "source": []
  },
  {
   "cell_type": "code",
   "execution_count": 14,
   "id": "0034f67a",
   "metadata": {},
   "outputs": [
    {
     "data": {
      "image/png": "[encoded data removed]",
      "text/plain": [
       "<Figure size 432x288 with 1 Axes>"
      ]
     },
     "metadata": {
      "needs_background": "light"
     },
     "output_type": "display_data"
    }
   ],
   "source": [
    "def thetafunc(X):\n",
    "    return np.random.randn(len(X[0])+1,1)\n",
    "def generateX(X):\n",
    "    return np.c_[np.ones((len(X),1)),X]\n",
    "def sigmoid_function(X):\n",
    "    return 1/(1+np.exp(-X))\n",
    "\n",
    "def gradient_descent(X,y,alpha,itterations):\n",
    "    falsecountList = []\n",
    "    cost = []\n",
    "    y_new = np.reshape(y,(len(y),1))\n",
    "    vectX = generateX(X)\n",
    "    w = np.zeros((len(X[0])+1,1))\n",
    "    b = 0\n",
    "    n = len(X)\n",
    "    for i in range(itterations):\n",
    "        \n",
    "        \n",
    "        \n",
    "        z = -y*(b+vectX.dot(w))\n",
    "        phiz = sigmoid_function(z)\n",
    "        y_pred = sigmoid_function(y*(vectX.dot(w)) + b)\n",
    "        Wgradient = (-1/n)*np.dot(vectX.T,y*phiz) + (2*alpha*w)\n",
    "        Bgradient = (-1/n)*np.sum((y*phiz)) \n",
    "        w = w - (alpha * Wgradient)\n",
    "        b = b - (alpha * Bgradient)\n",
    "        cost_value = (np.sum(np.log(1 + phiz)) + alpha*np.linalg.norm(w,ord=2)**2) /len(vectX)\n",
    "        cost.append(cost_value)\n",
    "        falsecountList.append(predict(vectX,w,y))\n",
    "        \n",
    "    \n",
    "    plt.plot(np.arange(1,itterations),cost[1:])\n",
    "    plt.xlabel('Itterations')\n",
    "    plt.ylabel('Cost')\n",
    "    return b,w,falsecountList,vectX\n",
    "\n",
    "b, theta,falseCountList,xvect =gradient_descent(df_x,df_y,.005,100)\n"
   ]
  },
  {
   "cell_type": "code",
   "execution_count": null,
   "id": "a1e047cf",
   "metadata": {},
   "outputs": [],
   "source": []
  },
  {
   "cell_type": "markdown",
   "id": "506d7379",
   "metadata": {},
   "source": [
    "        sigma = sigmoid(np.dot(x, weight) + bias)\n",
    "        loss = -1/size * np.sum(y * np.log(sigma)) + (1 - y) * np.log(1-sigma)\n",
    "        dW = 1/size * np.dot(x.T, (sigma - y))\n",
    "        db = 1/size * np.sum(sigma - y)\n",
    "        weight -= learning_rate * dW\n",
    "        bias -= learning_rate * db "
   ]
  },
  {
   "cell_type": "code",
   "execution_count": null,
   "id": "f3cc7a80",
   "metadata": {},
   "outputs": [],
   "source": []
  },
  {
   "cell_type": "code",
   "execution_count": 16,
   "id": "1c5e80d0",
   "metadata": {},
   "outputs": [
    {
     "data": {
      "text/html": [
       "<div>\n",
       "<style scoped>\n",
       "    .dataframe tbody tr th:only-of-type {\n",
       "        vertical-align: middle;\n",
       "    }\n",
       "\n",
       "    .dataframe tbody tr th {\n",
       "        vertical-align: top;\n",
       "    }\n",
       "\n",
       "    .dataframe thead th {\n",
       "        text-align: right;\n",
       "    }\n",
       "</style>\n",
       "<table border=\"1\" class=\"dataframe\">\n",
       "  <thead>\n",
       "    <tr style=\"text-align: right;\">\n",
       "      <th></th>\n",
       "      <th>0</th>\n",
       "    </tr>\n",
       "  </thead>\n",
       "  <tbody>\n",
       "    <tr>\n",
       "      <th>4173</th>\n",
       "      <td>-2.968028</td>\n",
       "    </tr>\n",
       "    <tr>\n",
       "      <th>9838</th>\n",
       "      <td>-2.757556</td>\n",
       "    </tr>\n",
       "    <tr>\n",
       "      <th>9828</th>\n",
       "      <td>-2.718638</td>\n",
       "    </tr>\n",
       "    <tr>\n",
       "      <th>1763</th>\n",
       "      <td>-2.685957</td>\n",
       "    </tr>\n",
       "    <tr>\n",
       "      <th>9364</th>\n",
       "      <td>-2.684635</td>\n",
       "    </tr>\n",
       "    <tr>\n",
       "      <th>...</th>\n",
       "      <td>...</td>\n",
       "    </tr>\n",
       "    <tr>\n",
       "      <th>10238</th>\n",
       "      <td>2.182439</td>\n",
       "    </tr>\n",
       "    <tr>\n",
       "      <th>12211</th>\n",
       "      <td>2.190959</td>\n",
       "    </tr>\n",
       "    <tr>\n",
       "      <th>5094</th>\n",
       "      <td>2.191831</td>\n",
       "    </tr>\n",
       "    <tr>\n",
       "      <th>3701</th>\n",
       "      <td>2.207570</td>\n",
       "    </tr>\n",
       "    <tr>\n",
       "      <th>6182</th>\n",
       "      <td>2.245391</td>\n",
       "    </tr>\n",
       "  </tbody>\n",
       "</table>\n",
       "<p>12223 rows × 1 columns</p>\n",
       "</div>"
      ],
      "text/plain": [
       "              0\n",
       "4173  -2.968028\n",
       "9838  -2.757556\n",
       "9828  -2.718638\n",
       "1763  -2.685957\n",
       "9364  -2.684635\n",
       "...         ...\n",
       "10238  2.182439\n",
       "12211  2.190959\n",
       "5094   2.191831\n",
       "3701   2.207570\n",
       "6182   2.245391\n",
       "\n",
       "[12223 rows x 1 columns]"
      ]
     },
     "execution_count": 16,
     "metadata": {},
     "output_type": "execute_result"
    }
   ],
   "source": [
    "df = pd.DataFrame(xvect@theta)\n",
    "df.sort_values(by = 0, ascending = True)\n"
   ]
  },
  {
   "cell_type": "code",
   "execution_count": null,
   "id": "9872be04",
   "metadata": {},
   "outputs": [],
   "source": []
  },
  {
   "cell_type": "code",
   "execution_count": 18,
   "id": "7b086b7b",
   "metadata": {},
   "outputs": [
    {
     "data": {
      "text/plain": [
       "Text(0.5, 1.0, 'Train set error')"
      ]
     },
     "execution_count": 18,
     "metadata": {},
     "output_type": "execute_result"
    },
    {
     "data": {
      "image/png": "[encoded data removed]",
      "text/plain": [
       "<Figure size 432x288 with 1 Axes>"
      ]
     },
     "metadata": {
      "needs_background": "light"
     },
     "output_type": "display_data"
    }
   ],
   "source": [
    "plt.plot(falseCountList)\n",
    "plt.xlabel('Itterations') \n",
    "plt.ylabel('% ERROR') \n",
    "  \n",
    "# displaying the title\n",
    "plt.title(\"Train set error\")"
   ]
  },
  {
   "cell_type": "code",
   "execution_count": 19,
   "id": "56105ff0",
   "metadata": {},
   "outputs": [
    {
     "data": {
      "text/plain": [
       "(2060, 1)"
      ]
     },
     "execution_count": 19,
     "metadata": {},
     "output_type": "execute_result"
    }
   ],
   "source": [
    "\n",
    "zeros = np.ones(len(df_x))\n",
    "df_x = np.column_stack((zeros,df_x))\n",
    "df_y2.shape"
   ]
  },
  {
   "cell_type": "code",
   "execution_count": 20,
   "id": "20b067c2",
   "metadata": {},
   "outputs": [
    {
     "data": {
      "image/png": "[encoded data removed]",
      "text/plain": [
       "<Figure size 432x288 with 1 Axes>"
      ]
     },
     "metadata": {
      "needs_background": "light"
     },
     "output_type": "display_data"
    }
   ],
   "source": [
    "b,w,falseco,x = gradient_descent(df_x2,df_y2,.005,200)"
   ]
  },
  {
   "cell_type": "code",
   "execution_count": 21,
   "id": "13ebfb0c",
   "metadata": {},
   "outputs": [
    {
     "data": {
      "text/plain": [
       "Text(0.5, 1.0, 'Test set error')"
      ]
     },
     "execution_count": 21,
     "metadata": {},
     "output_type": "execute_result"
    },
    {
     "data": {
      "image/png": "[encoded data removed]",
      "text/plain": [
       "<Figure size 432x288 with 1 Axes>"
      ]
     },
     "metadata": {
      "needs_background": "light"
     },
     "output_type": "display_data"
    }
   ],
   "source": [
    "plt.plot(falseco)\n",
    "plt.xlabel('Itterations') \n",
    "plt.ylabel('% ERROR') \n",
    "  \n",
    "# displaying the title\n",
    "plt.title(\"Test set error\")"
   ]
  },
  {
   "cell_type": "code",
   "execution_count": 22,
   "id": "cc12e822",
   "metadata": {},
   "outputs": [],
   "source": [
    "\n",
    "def predict2(X,w):\n",
    "    X = X@w\n",
    "    return X\n",
    "\n",
    "predictions = predict2(df_x,theta)\n",
    "\n",
    "for i in range(len(predictions)):\n",
    "    if(predictions[i] >= .5):\n",
    "        predictions[i] = 1.0\n",
    "    else:\n",
    "        predictions[i] = -1.0\n",
    "falsecount = 0\n",
    "for i in range(len(predictions)):\n",
    "    if(df_y[i] != predictions[i]):\n",
    "        falsecount = falsecount + 1\n",
    "\n",
    "\n"
   ]
  },
  {
   "cell_type": "code",
   "execution_count": 23,
   "id": "e34db9d3",
   "metadata": {},
   "outputs": [
    {
     "data": {
      "text/plain": [
       "987"
      ]
     },
     "execution_count": 23,
     "metadata": {},
     "output_type": "execute_result"
    }
   ],
   "source": [
    "falsecount"
   ]
  },
  {
   "cell_type": "code",
   "execution_count": 24,
   "id": "6a26a256",
   "metadata": {},
   "outputs": [],
   "source": [
    "def gradient_descent2(X,y,alpha,itterations,w,b):\n",
    "    # f = y - (m*X + b)\n",
    "    \n",
    "        # Updating m and b\n",
    "        #m -= lr * (-2 * X.dot(f).sum() / N)\n",
    "        #b -= lr * (-2 * f.sum() / N)\n",
    "    \n",
    "    cost = []\n",
    "    y_new = np.reshape(y,(len(y),1))\n",
    "    vectX = generateX(X)\n",
    "   \n",
    "    theta = thetafunc(X)\n",
    "    n = len(X)\n",
    "    for i in range(itterations):\n",
    "        z = -y*(b+vectX.dot(w))\n",
    "        phiz = sigmoid_function(z)\n",
    "        y_pred = sigmoid_function(y*(vectX.dot(w)) + b)\n",
    "        Wgradient = (-1/n)*np.dot(vectX.T,y*phiz) + (2*alpha*w)\n",
    "        Bgradient = (-1/n)*np.sum((y*phiz)) \n",
    "        w = w - (alpha * Wgradient)\n",
    "        b = b - (alpha * Bgradient)\n",
    "        cost_value = (np.sum(np.log(1 + phiz)) + alpha*np.linalg.norm(w,ord=2)**2) /len(vectX)\n",
    "        cost.append(cost_value)\n",
    "        \n",
    "    \n",
    "    plt.plot(np.arange(1,itterations),cost[1:])\n",
    "    plt.xlabel('Itterations')\n",
    "    plt.ylabel('Cost')\n",
    "    return b,w\n",
    "\n",
    "\n",
    "def SGD(X,y,learning_rate,batchsize):\n",
    "    wold = np.zeros((len(X[0])+1,1))\n",
    "    bold = 0\n",
    "    meanB = 0\n",
    "    meanW = 0\n",
    "    index = 0\n",
    "    for i in range(int(len(X)/batchsize)):\n",
    "        index = index + 1\n",
    "        x1 = X[i*batchsize:(i+1)*batchsize]\n",
    "        y1 = y[i*batchsize:(i+1)*batchsize]\n",
    "        b, w = gradient_descent2(x1,y1,learning_rate,100,wold,bold)\n",
    "        bold = b\n",
    "        wold = w\n",
    "        meanB = meanB + bold\n",
    "        meanW = meanW + wold\n",
    "        \n",
    "    meanB = meanB/index\n",
    "    meanW = meanW / index\n",
    "    return meanB, meanW\n"
   ]
  },
  {
   "cell_type": "code",
   "execution_count": 25,
   "id": "2c6cf728",
   "metadata": {},
   "outputs": [
    {
     "data": {
      "image/png": "[encoded data removed]",
      "text/plain": [
       "<Figure size 432x288 with 1 Axes>"
      ]
     },
     "metadata": {
      "needs_background": "light"
     },
     "output_type": "display_data"
    }
   ],
   "source": [
    "b, w = SGD(df_x,df_y,0.025,1)"
   ]
  },
  {
   "cell_type": "code",
   "execution_count": 26,
   "id": "4c8cb80b",
   "metadata": {},
   "outputs": [],
   "source": [
    "zeros = np.ones((len(df_x2),2))\n",
    "df_x2 = np.column_stack((zeros,df_x2))\n"
   ]
  },
  {
   "cell_type": "code",
   "execution_count": 27,
   "id": "fd687389",
   "metadata": {},
   "outputs": [],
   "source": [
    "\n",
    "def predict2(X,w):\n",
    "    X = X@w\n",
    "    return X\n",
    "\n",
    "predictions = predict2(df_x2,w)\n",
    "\n",
    "for i in range(len(predictions)):\n",
    "    if(predictions[i] >= .5):\n",
    "        predictions[i] = 1.0\n",
    "    else:\n",
    "        predictions[i] = -1.0\n",
    "falsecount = 0\n",
    "for i in range(len(predictions)):\n",
    "    if(df_y2[i] != predictions[i]):\n",
    "        falsecount = falsecount + 1\n",
    "\n",
    "\n"
   ]
  },
  {
   "cell_type": "code",
   "execution_count": 28,
   "id": "b4011361",
   "metadata": {},
   "outputs": [
    {
     "data": {
      "text/plain": [
       "173"
      ]
     },
     "execution_count": 28,
     "metadata": {},
     "output_type": "execute_result"
    }
   ],
   "source": [
    "falsecount"
   ]
  },
  {
   "cell_type": "code",
   "execution_count": 29,
   "id": "8ea3c706",
   "metadata": {},
   "outputs": [
    {
     "data": {
      "text/plain": [
       "(2060, 1)"
      ]
     },
     "execution_count": 29,
     "metadata": {},
     "output_type": "execute_result"
    }
   ],
   "source": [
    "df_y2.shape"
   ]
  },
  {
   "cell_type": "code",
   "execution_count": null,
   "id": "ecb0be1a",
   "metadata": {},
   "outputs": [],
   "source": []
  }
 ],
 "metadata": {
  "kernelspec": {
   "display_name": "Python 3 (ipykernel)",
   "language": "python",
   "name": "python3"
  },
  "language_info": {
   "codemirror_mode": {
    "name": "ipython",
    "version": 3
   },
   "file_extension": ".py",
   "mimetype": "text/x-python",
   "name": "python",
   "nbconvert_exporter": "python",
   "pygments_lexer": "ipython3",
   "version": "3.9.9"
  }
 },
 "nbformat": 4,
 "nbformat_minor": 5
}
