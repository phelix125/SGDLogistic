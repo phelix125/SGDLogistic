{
 "cells": [
  {
   "cell_type": "code",
   "execution_count": 51,
   "id": "71e4ae1e",
   "metadata": {},
   "outputs": [],
   "source": [
    "from mnist import MNIST\n",
    "import numpy as np\n",
    "import pandas as pd\n",
    "import matplotlib.pyplot as plt\n",
    "import seaborn as sns\n",
    "from sklearn.datasets import load_iris\n",
    "from sklearn.linear_model import LogisticRegression\n",
    "# load dataset\n",
    "# download files from http://yann.lecun.com/exdb/mnist/\n",
    "mndata = MNIST('./')\n",
    "X_train, labels_train = map(np.array, mndata.load_training())\n",
    "X_test, labels_test = map(np.array, mndata.load_testing())\n",
    "X_train = X_train/255.0\n",
    "X_test = X_test/255.0\n",
    "labels_train = labels_train.astype(float)\n",
    "labels_test = labels_test.astype(float)\n",
    "# for breaking apart the data, see the following\n",
    "# boolean indexing:\n",
    "labels_train == 7\n",
    "# logical operations on arrays\n",
    "np.logical_or\n",
    "df = pd.DataFrame(X_train,labels_train)\n",
    "df_test = pd.DataFrame(X_test,labels_test)"
   ]
  },
  {
   "cell_type": "code",
   "execution_count": 36,
   "id": "f0b28222",
   "metadata": {},
   "outputs": [],
   "source": [
    "mask = df.index == 2.0\n",
    "df2 = df[mask]\n",
    "mask = df.index == 7.0\n",
    "df7 = df[mask]\n",
    "\n",
    "mask = df_test.index == 2.0\n",
    "df22 = df_test[mask]\n",
    "mask = df_test.index == 7.0\n",
    "df72 = df_test[mask]\n",
    "\n",
    "frames = [df2, df7]\n",
    "\n",
    "frames2 = [df22,df72]\n",
    "\n",
    "result2 = pd.concat(frames2)\n",
    "result = pd.concat(frames)\n",
    "\n",
    "result = result.sample(frac=1)\n",
    "result2 = result2.sample(frac=1)\n",
    "\n",
    "df_x = result.reset_index(drop = True)\n",
    "df_y = result.index.to_series()\n",
    "\n",
    "df_x2 = result2.reset_index(drop = True)\n",
    "df_y2 = result2.index.to_series()\n",
    "\n",
    "df_y2 = df_y2.replace(2.0,-1)\n",
    "df_y2 = df_y2.replace(7.0,1)\n",
    "df_y2 = df_y2.reset_index(drop=True)\n",
    "df_y2 = df_y2\n",
    "df_y2 = df_y2.to_numpy()\n",
    "df_y2 = df_y2.reshape(len(df_y2),1)\n",
    "\n",
    "df_y = df_y.replace(2.0,-1)\n",
    "df_y = df_y.replace(7.0,1)\n",
    "df_y = df_y.reset_index(drop=True)\n",
    "df_x = df_x.to_numpy()\n",
    "df_y = df_y.to_numpy()\n",
    "df_y = df_y.reshape(len(df_y),1)\n",
    "\n",
    "X_train = df_x\n",
    "Y_train = df_y\n"
   ]
  },
  {
   "cell_type": "code",
   "execution_count": null,
   "id": "fb35ab35",
   "metadata": {},
   "outputs": [],
   "source": []
  },
  {
   "cell_type": "code",
   "execution_count": 37,
   "id": "b78da939",
   "metadata": {},
   "outputs": [],
   "source": [
    "\n",
    "def predict2(X,w):\n",
    "    X = X@w\n",
    "    return X\n",
    "\n",
    "def predict(X,w,df_y):\n",
    "    predictions = predict2(X,w)\n",
    "    accuracy = []\n",
    "    for i in range(len(predictions)):\n",
    "        if(sigmoid_function(predictions[i]) >= .5):\n",
    "            predictions[i] = 1.0\n",
    "        else:\n",
    "            predictions[i] = -1.0\n",
    "    falsecount = 0\n",
    "    for i in range(len(predictions)):\n",
    "        if(df_y[i] != predictions[i]):\n",
    "            accuracy.append(False)\n",
    "            falsecount = falsecount + 1\n",
    "        else:\n",
    "            accuracy.append(True)\n",
    "    return falsecount/len(X)\n",
    "\n",
    "\n"
   ]
  },
  {
   "cell_type": "code",
   "execution_count": 38,
   "id": "779fac62",
   "metadata": {},
   "outputs": [],
   "source": [
    "def thetafunc(X):\n",
    "    return np.random.randn(len(X[0])+1,1)\n",
    "def generateX(X):\n",
    "    return np.c_[np.ones((len(X),1)),X]\n",
    "def sigmoid_function(X):\n",
    "    return 1/(1+np.exp(-X))\n",
    "\n",
    "def gradient_descent(X,y,alpha,itterations):\n",
    "    falsecountList = []\n",
    "    cost = []\n",
    "    y_new = np.reshape(y,(len(y),1))\n",
    "    vectX = generateX(X)\n",
    "    w = np.zeros((len(X[0])+1,1))\n",
    "    b = 0\n",
    "    n = len(X)\n",
    "    for i in range(itterations):\n",
    "        \n",
    "        \n",
    "        \n",
    "        z = -y*(b+vectX.dot(w))\n",
    "        phiz = sigmoid_function(z)\n",
    "        y_pred = sigmoid_function(y*(vectX.dot(w)) + b)\n",
    "        Wgradient = (-1/n)*np.dot(vectX.T,y*phiz) + (2*alpha*w)\n",
    "        Bgradient = (-1/n)*np.sum((y*phiz)) \n",
    "        w = w - (alpha * Wgradient)\n",
    "        b = b - (alpha * Bgradient)\n",
    "        cost_value = (np.sum(np.log(1 + phiz)) + alpha*np.linalg.norm(w,ord=2)**2) /len(vectX)\n",
    "        cost.append(cost_value)\n",
    "        falsecountList.append(predict(vectX,w,y))\n",
    "        \n",
    "    \n",
    "    plt.plot(np.arange(1,itterations),cost[1:])\n",
    "    plt.xlabel('Itterations')\n",
    "    plt.ylabel('Cost')\n",
    "    return b,w,falsecountList,vectX\n",
    "\n",
    "\n"
   ]
  },
  {
   "cell_type": "markdown",
   "id": "e7b2de55",
   "metadata": {},
   "source": [
    "h = cos(G⃗x + ⃗c ) ∈ Rp , (4)\n",
    "where ⃗c ∈ Rp is a vector with entries ci sampled iid uniformly from [0, 2π] (use np.random.rand and rescale),\n",
    "G ∈ Rp×d is a vector with entries Gij sampled iid from N (0, σ2) (use np.random.randn and rescale; note\n",
    "that σ2 is the variance of the random variable and that you should rescale by the standard deviation), and\n",
    "the cosine nonlinearity is applied pointwise\n",
    "We will assume a logistic regression readout for predicting the labels. In other words, once you form the\n",
    "random features (4), you will predict the output as P [Y = +1|⃗x ] = φ(⃗hT ⃗w + b) using the random features\n",
    "⃗\n",
    "h instead of the original ones ⃗x . Fitting this model can be done reusing the code from earlier: Just form an\n",
    "n × p matrix H from your original n × d data X, and feed it into the gradient descent function you wrote in\n",
    "2. This is a one-liner in numpy: H train = np.cos(X train @ G.T + c). Note that to make a prediction\n",
    "at a point ⃗x , you will also have to transform it in this way"
   ]
  },
  {
   "cell_type": "code",
   "execution_count": 39,
   "id": "2160ffc9",
   "metadata": {},
   "outputs": [],
   "source": [
    "# h = cos(Gx + c)\n",
    "# p = 3000\n",
    "c = np.random.rand(3000)\n",
    "G = np.random.randn(3000,784)\n",
    "c = c * 2*np.pi\n",
    "\n",
    "H_train = np.cos(X_train@G.T + c)"
   ]
  },
  {
   "cell_type": "code",
   "execution_count": 40,
   "id": "8332ca0b",
   "metadata": {},
   "outputs": [
    {
     "data": {
      "image/png": "[encoded data removed]",
      "text/plain": [
       "<Figure size 432x288 with 1 Axes>"
      ]
     },
     "metadata": {
      "needs_background": "light"
     },
     "output_type": "display_data"
    }
   ],
   "source": [
    "b, theta, flist, vect = gradient_descent(H_train,Y_train,0.1,200)"
   ]
  },
  {
   "cell_type": "code",
   "execution_count": 41,
   "id": "71c4d010",
   "metadata": {},
   "outputs": [
    {
     "data": {
      "text/plain": [
       "0.2955902806185061"
      ]
     },
     "execution_count": 41,
     "metadata": {},
     "output_type": "execute_result"
    }
   ],
   "source": [
    "flist[len(flist)-1]"
   ]
  },
  {
   "cell_type": "code",
   "execution_count": 42,
   "id": "6fc23cb8",
   "metadata": {},
   "outputs": [
    {
     "data": {
      "text/plain": [
       "array([[ 0.70087199,  0.69667388, -0.48226401, ...,  0.56695428,\n",
       "        -0.14037034, -0.35371386],\n",
       "       [ 1.79738224,  0.25614572,  0.30317533, ...,  0.19295048,\n",
       "         0.0857153 , -0.46308181],\n",
       "       [-0.92774585,  0.127689  ,  1.74043708, ..., -0.97893384,\n",
       "        -0.67187094, -2.85121322],\n",
       "       ...,\n",
       "       [-1.05295884, -1.20208562,  1.25002249, ...,  0.38017964,\n",
       "        -0.40948947, -1.69689134],\n",
       "       [-0.90443196,  1.18659261,  0.25375185, ..., -0.6342725 ,\n",
       "        -1.30508106, -0.65498612],\n",
       "       [-0.20518947,  0.24754044,  2.10312536, ...,  0.10128502,\n",
       "        -1.21983223,  0.78759684]])"
      ]
     },
     "execution_count": 42,
     "metadata": {},
     "output_type": "execute_result"
    }
   ],
   "source": [
    "G"
   ]
  },
  {
   "cell_type": "code",
   "execution_count": 43,
   "id": "74a2124c",
   "metadata": {},
   "outputs": [
    {
     "data": {
      "text/plain": [
       "array([1.e-03, 1.e-02, 1.e-01, 1.e+00, 1.e+01, 1.e+02])"
      ]
     },
     "execution_count": 43,
     "metadata": {},
     "output_type": "execute_result"
    }
   ],
   "source": [
    "sigmas = np.logspace(-3, 2.0, num = 6)\n",
    "sigmas"
   ]
  },
  {
   "cell_type": "code",
   "execution_count": 44,
   "id": "b4ff1c65",
   "metadata": {},
   "outputs": [
    {
     "data": {
      "image/png": "[encoded data removed]",
      "text/plain": [
       "<Figure size 432x288 with 1 Axes>"
      ]
     },
     "metadata": {
      "needs_background": "light"
     },
     "output_type": "display_data"
    }
   ],
   "source": [
    "falselist = []\n",
    "sigma = 0;\n",
    "mini = 100\n",
    "index = 0\n",
    "sigmas = np.logspace(-3, 2.0, num = 10)\n",
    "for sig in sigmas:\n",
    "    c = np.random.rand(3000)\n",
    "    G = np.random.randn(3000,784)\n",
    "    c = c * 2*np.pi\n",
    "    G = G * sig\n",
    "    \n",
    "    H_train = np.cos(X_train@G.T + c)\n",
    "    \n",
    "    b, theta, flist, vect = gradient_descent(H_train,Y_train,0.1,250)\n",
    "    if(flist[len(flist)-1] < mini):\n",
    "        mini = flist[len(flist)-1]\n",
    "        sigma = index\n",
    "    falselist.append(flist)\n",
    "    index = index + 1\n",
    "    "
   ]
  },
  {
   "cell_type": "code",
   "execution_count": 56,
   "id": "de54e56e",
   "metadata": {},
   "outputs": [
    {
     "data": {
      "text/plain": [
       "Text(0.5, 1.0, 'Sigma plot')"
      ]
     },
     "execution_count": 56,
     "metadata": {},
     "output_type": "execute_result"
    },
    {
     "data": {
      "image/png": "[encoded data removed]",
      "text/plain": [
       "<Figure size 504x504 with 1 Axes>"
      ]
     },
     "metadata": {
      "needs_background": "light"
     },
     "output_type": "display_data"
    }
   ],
   "source": [
    "scores = []\n",
    "\n",
    "for flist in falselist:\n",
    "    scores.append(1 - flist[len(flist)-1])\n",
    "f, ax = plt.subplots(figsize=(7, 7))\n",
    "ax.set(xscale=\"log\")\n",
    "sns.scatterplot(y = scores, x = sigmas)\n",
    "plt.xlabel('Sigma') \n",
    "plt.ylabel('% Accuracy') \n",
    "plt.title(\"Sigma plot\")"
   ]
  },
  {
   "cell_type": "code",
   "execution_count": 46,
   "id": "a1d0880e",
   "metadata": {},
   "outputs": [
    {
     "data": {
      "image/png": "[encoded data removed]",
      "text/plain": [
       "<Figure size 432x288 with 1 Axes>"
      ]
     },
     "metadata": {
      "needs_background": "light"
     },
     "output_type": "display_data"
    }
   ],
   "source": [
    "c = np.random.rand(3000)\n",
    "G = np.random.randn(3000,784)\n",
    "c = c * 2*np.pi\n",
    "G = G * sigmas[4]\n",
    "    \n",
    "H_train = np.cos(X_train@G.T + c)\n",
    "b, theta, flist, vect = gradient_descent(H_train,Y_train,0.1,250)"
   ]
  },
  {
   "cell_type": "code",
   "execution_count": 47,
   "id": "8c7d9365",
   "metadata": {},
   "outputs": [
    {
     "data": {
      "text/plain": [
       "Text(0.5, 1.0, 'Train set error w SIGMA 4')"
      ]
     },
     "execution_count": 47,
     "metadata": {},
     "output_type": "execute_result"
    },
    {
     "data": {
      "image/png": "[encoded data removed]",
      "text/plain": [
       "<Figure size 432x288 with 1 Axes>"
      ]
     },
     "metadata": {
      "needs_background": "light"
     },
     "output_type": "display_data"
    }
   ],
   "source": [
    "plt.plot(flist)\n",
    "plt.xlabel('Itterations') \n",
    "plt.ylabel('% ERROR') \n",
    "plt.title(\"Train set error w SIGMA 4\")"
   ]
  },
  {
   "cell_type": "code",
   "execution_count": 48,
   "id": "d63d647a",
   "metadata": {},
   "outputs": [
    {
     "ename": "ValueError",
     "evalue": "shapes (2060,3001) and (2061,1) not aligned: 3001 (dim 1) != 2061 (dim 0)",
     "output_type": "error",
     "traceback": [
      "\u001b[0;31m---------------------------------------------------------------------------\u001b[0m",
      "\u001b[0;31mValueError\u001b[0m                                Traceback (most recent call last)",
      "\u001b[0;32m/var/folders/gd/zx2q21sj715f9dw155z7z25h0000gn/T/ipykernel_3166/1851508061.py\u001b[0m in \u001b[0;36m<module>\u001b[0;34m\u001b[0m\n\u001b[1;32m      5\u001b[0m \u001b[0;34m\u001b[0m\u001b[0m\n\u001b[1;32m      6\u001b[0m \u001b[0mH_train\u001b[0m \u001b[0;34m=\u001b[0m \u001b[0mnp\u001b[0m\u001b[0;34m.\u001b[0m\u001b[0mcos\u001b[0m\u001b[0;34m(\u001b[0m\u001b[0mdf_x2\u001b[0m\u001b[0;34m@\u001b[0m\u001b[0mG\u001b[0m\u001b[0;34m.\u001b[0m\u001b[0mT\u001b[0m \u001b[0;34m+\u001b[0m \u001b[0mc\u001b[0m\u001b[0;34m)\u001b[0m\u001b[0;34m\u001b[0m\u001b[0;34m\u001b[0m\u001b[0m\n\u001b[0;32m----> 7\u001b[0;31m \u001b[0mb\u001b[0m\u001b[0;34m,\u001b[0m \u001b[0mtheta\u001b[0m\u001b[0;34m,\u001b[0m \u001b[0mflist\u001b[0m\u001b[0;34m,\u001b[0m \u001b[0mvect\u001b[0m \u001b[0;34m=\u001b[0m \u001b[0mgradient_descent\u001b[0m\u001b[0;34m(\u001b[0m\u001b[0mH_train\u001b[0m\u001b[0;34m,\u001b[0m\u001b[0mdf_y2\u001b[0m\u001b[0;34m,\u001b[0m\u001b[0;36m0.1\u001b[0m\u001b[0;34m,\u001b[0m\u001b[0;36m250\u001b[0m\u001b[0;34m)\u001b[0m\u001b[0;34m\u001b[0m\u001b[0;34m\u001b[0m\u001b[0m\n\u001b[0m",
      "\u001b[0;32m/var/folders/gd/zx2q21sj715f9dw155z7z25h0000gn/T/ipykernel_3166/1131036739.py\u001b[0m in \u001b[0;36mgradient_descent\u001b[0;34m(X, y, alpha, itterations)\u001b[0m\n\u001b[1;32m     18\u001b[0m \u001b[0;34m\u001b[0m\u001b[0m\n\u001b[1;32m     19\u001b[0m \u001b[0;34m\u001b[0m\u001b[0m\n\u001b[0;32m---> 20\u001b[0;31m         \u001b[0mz\u001b[0m \u001b[0;34m=\u001b[0m \u001b[0;34m-\u001b[0m\u001b[0my\u001b[0m\u001b[0;34m*\u001b[0m\u001b[0;34m(\u001b[0m\u001b[0mb\u001b[0m\u001b[0;34m+\u001b[0m\u001b[0mvectX\u001b[0m\u001b[0;34m.\u001b[0m\u001b[0mdot\u001b[0m\u001b[0;34m(\u001b[0m\u001b[0mw\u001b[0m\u001b[0;34m)\u001b[0m\u001b[0;34m)\u001b[0m\u001b[0;34m\u001b[0m\u001b[0;34m\u001b[0m\u001b[0m\n\u001b[0m\u001b[1;32m     21\u001b[0m         \u001b[0mphiz\u001b[0m \u001b[0;34m=\u001b[0m \u001b[0msigmoid_function\u001b[0m\u001b[0;34m(\u001b[0m\u001b[0mz\u001b[0m\u001b[0;34m)\u001b[0m\u001b[0;34m\u001b[0m\u001b[0;34m\u001b[0m\u001b[0m\n\u001b[1;32m     22\u001b[0m         \u001b[0my_pred\u001b[0m \u001b[0;34m=\u001b[0m \u001b[0msigmoid_function\u001b[0m\u001b[0;34m(\u001b[0m\u001b[0my\u001b[0m\u001b[0;34m*\u001b[0m\u001b[0;34m(\u001b[0m\u001b[0mvectX\u001b[0m\u001b[0;34m.\u001b[0m\u001b[0mdot\u001b[0m\u001b[0;34m(\u001b[0m\u001b[0mw\u001b[0m\u001b[0;34m)\u001b[0m\u001b[0;34m)\u001b[0m \u001b[0;34m+\u001b[0m \u001b[0mb\u001b[0m\u001b[0;34m)\u001b[0m\u001b[0;34m\u001b[0m\u001b[0;34m\u001b[0m\u001b[0m\n",
      "\u001b[0;31mValueError\u001b[0m: shapes (2060,3001) and (2061,1) not aligned: 3001 (dim 1) != 2061 (dim 0)"
     ]
    }
   ],
   "source": [
    "c = np.random.rand(3000)\n",
    "G = np.random.randn(3000,784)\n",
    "c = c * 2*np.pi\n",
    "G = G * sigmas[4]\n",
    "    \n",
    "H_train = np.cos(df_x2@G.T + c)\n",
    "b, theta, flist, vect = gradient_descent(H_train,df_y2,0.1,250)"
   ]
  },
  {
   "cell_type": "code",
   "execution_count": null,
   "id": "4995cdf4",
   "metadata": {},
   "outputs": [],
   "source": [
    "plt.plot(flist)\n",
    "plt.xlabel('Itterations') \n",
    "plt.ylabel('% ERROR') \n",
    "plt.title(\"TEST set error w SIGMA 4\")"
   ]
  },
  {
   "cell_type": "code",
   "execution_count": null,
   "id": "6b7213eb",
   "metadata": {},
   "outputs": [],
   "source": [
    "sigmas[4]"
   ]
  },
  {
   "cell_type": "code",
   "execution_count": null,
   "id": "42478a9e",
   "metadata": {},
   "outputs": [],
   "source": []
  }
 ],
 "metadata": {
  "kernelspec": {
   "display_name": "Python 3 (ipykernel)",
   "language": "python",
   "name": "python3"
  },
  "language_info": {
   "codemirror_mode": {
    "name": "ipython",
    "version": 3
   },
   "file_extension": ".py",
   "mimetype": "text/x-python",
   "name": "python",
   "nbconvert_exporter": "python",
   "pygments_lexer": "ipython3",
   "version": "3.9.9"
  }
 },
 "nbformat": 4,
 "nbformat_minor": 5
}
